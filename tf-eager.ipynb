{
 "cells": [
  {
   "cell_type": "code",
   "execution_count": null,
   "metadata": {
    "collapsed": true
   },
   "outputs": [],
   "source": [
    "import argparse\n",
    "import networkx as nx\n",
    "import numpy as np\n",
    "import scipy as sp\n",
    "import tensorflow as tf\n",
    "import tensorflow.contrib.eager as eager\n",
    "import my\n",
    "import objectives\n",
    "import tf_gnn"
   ]
  },
  {
   "cell_type": "code",
   "execution_count": null,
   "metadata": {
    "collapsed": true
   },
   "outputs": [],
   "source": [
    "config = tf.ConfigProto()\n",
    "config.gpu_options.allow_growth=True\n",
    "tf.enable_eager_execution(config)"
   ]
  },
  {
   "cell_type": "code",
   "execution_count": null,
   "metadata": {
    "collapsed": true
   },
   "outputs": [],
   "source": [
    "args = argparse.Namespace()\n",
    "args.depth = 10\n",
    "# args.device = '/cpu:0'\n",
    "args.device = '/device:GPU:0'\n",
    "args.graph = 'soc-Epinions1'\n",
    "# args.graph = 'soc-Slashdot0811'\n",
    "# args.graph = 'soc-Slashdot0902'\n",
    "args.lambda_node = 1.0\n",
    "args.lambda_edge = 1.0\n",
    "args.lambda_entropy = 1.0\n",
    "args.n_features = 16\n",
    "args.n_iterations = 500\n",
    "args.n_machines = 10\n",
    "args.radius = 3\n",
    "\n",
    "# parser = argparse.ArgumentParser()\n",
    "# parser.add_argument('--depth', type=int, default=10)\n",
    "# parser.add_argument('--device', type=str, default='/cpu:0')\n",
    "# parser.add_argument('--graph', type=str, default='soc-Epinions1')\n",
    "# parser.add_argument('--lambda_node', type=float, default=1)\n",
    "# parser.add_argument('--lambda_edge', type=float, default=1)\n",
    "# parser.add_argument('--lambda_entropy', type=float, default=1)\n",
    "# parser.add_argument('--n-features', type=int, default=16)\n",
    "# parser.add_argument('--n-iterations', type=int, default=500)\n",
    "# parser.add_argument('--n-machines', type=int, default=10)\n",
    "# parser.add_argument('--radius', type=int, default=3)\n",
    "# args = parser.parse_args()\n",
    "\n",
    "keys = sorted(vars(args).keys())\n",
    "run_id = 'ipynb' + '-'.join('%s-%s' % (key, str(getattr(args, key))) for key in keys if key != 'device')\n",
    "writer = tf.contrib.summary.create_file_writer('runs/' + run_id)\n",
    "writer.set_as_default()"
   ]
  },
  {
   "cell_type": "code",
   "execution_count": null,
   "metadata": {
    "collapsed": true
   },
   "outputs": [],
   "source": [
    "g = my.read_edgelist('data/' + args.graph, fill=True)\n",
    "adj = nx.adj_matrix(g)\n",
    "# x = sp.sparse.random(1000, 1000, 1e-5, data_rvs=lambda shape: np.ones(shape))\n",
    "# adj = (x + x.transpose()).minimum(1)"
   ]
  },
  {
   "cell_type": "code",
   "execution_count": null,
   "metadata": {
    "collapsed": true
   },
   "outputs": [],
   "source": [
    "with tf.device(args.device):\n",
    "    objective = objectives.Objective(adj, args.n_machines, args.lambda_node, args.lambda_edge, args.lambda_entropy)\n",
    "    gnn = tf_gnn.GNN((1,) + (args.n_features,) * args.depth, args.n_machines, adj, args.radius)\n",
    "    optimizer = tf.train.AdamOptimizer(learning_rate=1e-3)"
   ]
  },
  {
   "cell_type": "code",
   "execution_count": null,
   "metadata": {
    "collapsed": true
   },
   "outputs": [],
   "source": [
    "with tf.device(args.device):\n",
    "    x = tf.constant(adj.sum(1), dtype=tf.float32)\n",
    "    x -= tf.reduce_mean(x)\n",
    "    x /= tf.sqrt(tf.reduce_mean(tf.square(x)))"
   ]
  },
  {
   "cell_type": "code",
   "execution_count": null,
   "metadata": {
    "collapsed": true
   },
   "outputs": [],
   "source": [
    "global_step = tf.train.get_or_create_global_step()\n",
    "with tf.device(args.device):\n",
    "    for i in range(args.n_iterations):\n",
    "        global_step.assign_add(1)\n",
    "        with tf.contrib.summary.record_summaries_every_n_global_steps(1):\n",
    "            with eager.GradientTape() as tape:\n",
    "                z = gnn(x, training=True)\n",
    "                rslt, r, b_node, b_edge, entropy = objective(z, training=True)\n",
    "            gradients = tape.gradient(rslt, gnn.variables)\n",
    "            optimizer.apply_gradients(zip(gradients, gnn.variables), global_step=tf.train.get_or_create_global_step())\n",
    "\n",
    "            r, b_node, b_edge, entropy = objective(z)\n",
    "            print('[iteration %d]%f %f %f %f %f' % (i + 1, rslt, r, b_node, b_edge, entropy))\n",
    "            tf.contrib.summary.scalar('objective', rslt)\n",
    "            tf.contrib.summary.scalar('replication-factor', r)\n",
    "            tf.contrib.summary.scalar('node-balancedness', b_node)\n",
    "            tf.contrib.summary.scalar('edge-balancedness', b_edge)\n",
    "            tf.contrib.summary.scalar('entropy', entropy)"
   ]
  },
  {
   "cell_type": "code",
   "execution_count": null,
   "metadata": {
    "collapsed": true
   },
   "outputs": [],
   "source": [
    "# ckpt = eager.Checkpoint(model=gnn)\n",
    "# ckpt.save('./models/gnn')"
   ]
  }
 ],
 "metadata": {
  "kernelspec": {
   "display_name": "Python 3",
   "language": "python",
   "name": "python3"
  },
  "language_info": {
   "codemirror_mode": {
    "name": "ipython",
    "version": 3
   },
   "file_extension": ".py",
   "mimetype": "text/x-python",
   "name": "python",
   "nbconvert_exporter": "python",
   "pygments_lexer": "ipython3",
   "version": "3.6.3"
  }
 },
 "nbformat": 4,
 "nbformat_minor": 2
}
