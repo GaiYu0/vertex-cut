{
 "cells": [
  {
   "cell_type": "code",
   "execution_count": null,
   "metadata": {},
   "outputs": [],
   "source": [
    "import argparse\n",
    "import networkx as nx\n",
    "import numpy as np\n",
    "import scipy as sp\n",
    "import torch as th\n",
    "import torch.nn as nn\n",
    "import torch.nn.functional as F\n",
    "import my"
   ]
  },
  {
   "cell_type": "code",
   "execution_count": null,
   "metadata": {},
   "outputs": [],
   "source": [
    "args = argparse.Namespace()\n",
    "args.depth = 10\n",
    "args.dense = True\n",
    "args.graph = 'soc-Epinions1-reduced'\n",
    "args.n_features = 8\n",
    "args.n_machines = 10\n",
    "args.radius = 3"
   ]
  },
  {
   "cell_type": "code",
   "execution_count": null,
   "metadata": {},
   "outputs": [],
   "source": [
    "class Objective:\n",
    "    def __init__(self, g, n_machines, dense):\n",
    "#         number_of_nodes = max(tuple(g.nodes())) + 1\n",
    "        s = sp.sparse.lil_matrix((g.number_of_nodes(), g.number_of_edges()))\n",
    "        for i, (j, k) in enumerate(g.edges()):\n",
    "            s[j, i] = 1\n",
    "            s[k, i] = 1\n",
    "        self.s = my.sparse_sp2th(s)\n",
    "        if dense:\n",
    "            self.s = self.s.to_dense()\n",
    "        self.n_machines = n_machines\n",
    "        \n",
    "    def __call__(self, x):\n",
    "        y = th.multinomial(x, num_samples=1)\n",
    "        y = my.onehot(y, self.n_machines)\n",
    "        y = th.mm(self.s, y)\n",
    "        r = th.sum(y)\n",
    "        p = (th.sum(y, 1) + 1) / r\n",
    "        b = -p * th.log(p)\n",
    "        objective = -(r + b) * th.log(x)\n",
    "        return objective"
   ]
  },
  {
   "cell_type": "code",
   "execution_count": null,
   "metadata": {},
   "outputs": [],
   "source": [
    "class GNNModule(nn.Module):\n",
    "    def __init__(self, in_features, out_features, adj, nonlinear):\n",
    "        super().__init__()\n",
    "        self.adj = adj\n",
    "        self.deg = th.sum(adj[0], 1, keepdim=True)\n",
    "        new_linear = lambda: nn.Parameter(th.randn(in_features, out_features))\n",
    "        self.alpha1, self.alpha2, self.alpha3 = new_linear(), new_linear(), new_linear()\n",
    "        self.alpha4 = nn.ParameterList([new_linear() for a in adj])\n",
    "        self.beta1, self.beta2, self.beta3 = new_linear(), new_linear(), new_linear()\n",
    "        self.beta4 = nn.ParameterList([new_linear() for a in adj])\n",
    "        self.bn_alpha, self.bn_beta = nn.BatchNorm1d(out_features), nn.BatchNorm1d(out_features)\n",
    "        self.nonlinear = nonlinear\n",
    "    \n",
    "    def forward(self, x):\n",
    "        deg = self.deg * x\n",
    "        u = th.zeros_like(x) + th.mean(x, 1, keepdim=True)\n",
    "        adj = [th.mm(a, x) for a in self.adj]\n",
    "        alpha = th.mm(x, self.alpha1) + th.mm(deg, self.alpha1) + th.mm(u, self.alpha2) + \\\n",
    "            sum(th.mm(a, alpha) for alpha, a in zip(self.alpha4, adj))\n",
    "        alpha = self.bn_alpha(self.nonlinear(alpha))\n",
    "        beta = th.mm(x, self.beta1) + th.mm(deg, self.beta1) + th.mm(u, self.beta2) + \\\n",
    "            sum(th.mm(a, beta) for beta, a in zip(self.beta4, adj))\n",
    "        beta = self.bn_beta(beta)\n",
    "        return alpha + beta\n",
    "\n",
    "class EdgeLinear(nn.Module):\n",
    "    def __init__(self, in_features, out_features, adj):\n",
    "        super().__init__()\n",
    "        self.linear_list = nn.ModuleList([nn.Linear(in_features, 1) for i in range(out_features)])\n",
    "        self.adj = adj\n",
    "    \n",
    "    def forward(self, x):\n",
    "        z_list = []\n",
    "        for linear in self.linear_list:\n",
    "            z = linear(x)\n",
    "            z = z * self.adj + z.t() * self.adj\n",
    "#             convert z (|V| * |V|) to |E| * 1\n",
    "            z_list.append()\n",
    "        z = th.cat(z_list, 1)\n",
    "        return z\n",
    "\n",
    "class GNN(nn.Module):\n",
    "    def __init__(self, features, n_classes, adj, radius, nonlinear, dense):\n",
    "        super().__init__()\n",
    "        adj = my.sparse_sp2th(adj).float()\n",
    "        if dense:\n",
    "            adj = adj.to_dense()\n",
    "        a, adj_list = adj, [adj]\n",
    "        for i in range(radius - 1):\n",
    "            a = th.mm(a, a)\n",
    "            adj_list.append(a)\n",
    "        # TODO nn.Sequential\n",
    "        self.module_list = nn.ModuleList([GNNModule(m, n, adj_list, nonlinear)\n",
    "                                          for m, n in zip(features[:-1], features[1:])])\n",
    "        self.linear = EdgeLinear(features[-1], n_classes, adj)\n",
    "    \n",
    "    def forward(self, x):\n",
    "        for module in self.module_list:\n",
    "            x = module(x)\n",
    "        x = self.linear(x)\n",
    "        x = F.softmax(x, 1)\n",
    "        return x"
   ]
  },
  {
   "cell_type": "code",
   "execution_count": null,
   "metadata": {},
   "outputs": [],
   "source": [
    "g = my.read_edgelist(args.graph)\n",
    "adj = nx.adj_matrix(g)\n",
    "objective = Objective(g, 10, args.dense)\n",
    "gnn = GNN((1,) + (args.n_features,) * args.depth, args.n_machines, adj, args.radius, F.relu, args.dense)"
   ]
  },
  {
   "cell_type": "code",
   "execution_count": null,
   "metadata": {},
   "outputs": [],
   "source": [
    "x = th.from_numpy(np.sum(adj, 1)).float()\n",
    "objective(gnn(x)).backward()"
   ]
  }
 ],
 "metadata": {
  "kernelspec": {
   "display_name": "Python 3",
   "language": "python",
   "name": "python3"
  },
  "language_info": {
   "codemirror_mode": {
    "name": "ipython",
    "version": 3
   },
   "file_extension": ".py",
   "mimetype": "text/x-python",
   "name": "python",
   "nbconvert_exporter": "python",
   "pygments_lexer": "ipython3",
   "version": "3.6.4"
  }
 },
 "nbformat": 4,
 "nbformat_minor": 2
}
