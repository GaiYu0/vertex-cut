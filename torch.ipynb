{
 "cells": [
  {
   "cell_type": "code",
   "execution_count": null,
   "metadata": {},
   "outputs": [],
   "source": [
    "import argparse\n",
    "import networkx as nx\n",
    "import numpy as np\n",
    "import scipy as sp\n",
    "import torch as th\n",
    "import torch.nn as nn\n",
    "import torch.nn.functional as F\n",
    "import my"
   ]
  },
  {
   "cell_type": "code",
   "execution_count": null,
   "metadata": {},
   "outputs": [],
   "source": [
    "args = argparse.Namespace()\n",
    "args.depth = 10\n",
    "args.graph = 'soc-Epinions1-reduced'\n",
    "args.n_features = 8\n",
    "args.n_machines = 10\n",
    "args.radius = 3"
   ]
  },
  {
   "cell_type": "code",
   "execution_count": null,
   "metadata": {},
   "outputs": [],
   "source": [
    "class Objective:\n",
    "    def __init__(self, g, n_machines):\n",
    "#         number_of_nodes = max(tuple(g.nodes())) + 1\n",
    "        s = sp.sparse.lil_matrix((g.number_of_nodes(), g.number_of_edges()))\n",
    "        for i, (j, k) in enumerate(g.edges()):\n",
    "            s[j, i] = 1\n",
    "            s[k, i] = 1\n",
    "        s_coo = s.tocoo()\n",
    "        rows = th.from_numpy(s_coo.row).long().view(1, -1)\n",
    "        cols = th.from_numpy(s_coo.col).long().view(1, -1)\n",
    "        data = th.from_numpy(s_coo.data).float()\n",
    "        self.s = th.sparse.FloatTensor(th.cat((rows, cols), 0), data, s_coo.shape)\n",
    "        self.n_machines = n_machines\n",
    "        \n",
    "    def __call__(self, x):\n",
    "        y = th.multinomial(x, num_samples=1)\n",
    "        y = my.onehot(y, self.n_machines)\n",
    "        y = th.mm(self.s, y)\n",
    "        r = th.sum(y)\n",
    "        p = (th.sum(y, 1) + 1) / r\n",
    "        b = -p * th.log(p)\n",
    "        objective = -(r + b) * th.log(x)\n",
    "        return objective"
   ]
  },
  {
   "cell_type": "code",
   "execution_count": null,
   "metadata": {},
   "outputs": [],
   "source": [
    "class GNNModule(nn.Module):\n",
    "    def __init__(self, in_features, out_features, deg, adj, nonlinear):\n",
    "        super().__init__()\n",
    "        self.deg, self.u, self.adj = deg, u, adj\n",
    "        new_linear = lambda: nn.Parameter(th.randn(in_features, out_features))\n",
    "        self.alpha1, self.alpha2, self.alpha3 = new_linear(), new_linear(), new_linear()\n",
    "        self.alpha4 = nn.ParameterList([new_linear() for a in adj])\n",
    "        self.beta1, self.beta2, self.beta3 = new_linear(), new_linear(), new_linear()\n",
    "        self.beta4 = nn.ParameterList([new_linear() for a in adj])\n",
    "        self.bn_alpha, self.bn_beta = nn.BatchNorm2d(out_features), nn.BatchNorm2d(out_features)\n",
    "        self.nonlinear = nonlinear\n",
    "    \n",
    "    def forward(self, x):\n",
    "        deg = th.mm(self.deg, x)\n",
    "        u = th.zeros_like(x) + th.mean(x, 1, keep_dim=True)\n",
    "        adj = [th.mm(a, x) for a in self.adj]\n",
    "        alpha = th.mm(self.alpha1, x) + th.mm(self.alpha1, deg) + th.mm(self.alpha2, u) + \\\n",
    "            sum(th.mm(alpha, a) for alpha, a in zip(self.alpha4, adj))\n",
    "        alpha = self.bn_alpha(self.nonlinear(alpha))\n",
    "        beta = th.mm(self.beta1, x) + th.mm(self.beta1, deg) + th.mm(self.beta2, u) + \\\n",
    "            sum(th.mm(beta, a) for beta, a in zip(self.beta4, adj))\n",
    "        beta = self.bn_beta(beta)\n",
    "        return alpha + beta\n",
    "\n",
    "class EdgeLinear(nn.Module):\n",
    "    def __init__(self, in_features, out_features, adj):\n",
    "        super().__init__()\n",
    "        self.in_features, self.out_features = in_features, out_features\n",
    "        self.adj = adj\n",
    "    \n",
    "    def forward(self, x):\n",
    "        pass\n",
    "\n",
    "class GNN(nn.Module):\n",
    "    def __init__(self, features, n_classes, deg, adj, radius, nonlinear):\n",
    "        a, adj_list = adj, []\n",
    "        for i in range(radius):\n",
    "            adj_list.append(a)\n",
    "            a = th.mm(a, a)\n",
    "        # TODO nn.Sequential\n",
    "        self.module_list = nn.ModuleList([GNNModule(m, n, deg, u, adj_list, nonlinear)\n",
    "                                          for m, n in zip(features[:-1], features[1:])])\n",
    "        self.linear = EdgeLinear(features[-1], k, adj)\n",
    "    \n",
    "    def forward(self, x):\n",
    "        for module in self.module_list:\n",
    "            x = module(x)\n",
    "        x = F.softmax(x, 1)\n",
    "        return x"
   ]
  },
  {
   "cell_type": "code",
   "execution_count": null,
   "metadata": {},
   "outputs": [],
   "source": [
    "g = my.read_edgelist(args.graph)\n",
    "adj = nx.adj_matrix(g)\n",
    "deg = sp.sum(adj, 1)\n",
    "objective = Objective(g, 10)"
   ]
  },
  {
   "cell_type": "code",
   "execution_count": null,
   "metadata": {},
   "outputs": [],
   "source": [
    "gnn = GNN((1,) + (args.n_features,) * args.depth, args.n_machines, deg, adj, args.radius, F.relu)"
   ]
  }
 ],
 "metadata": {
  "kernelspec": {
   "display_name": "Python 3",
   "language": "python",
   "name": "python3"
  },
  "language_info": {
   "codemirror_mode": {
    "name": "ipython",
    "version": 3
   },
   "file_extension": ".py",
   "mimetype": "text/x-python",
   "name": "python",
   "nbconvert_exporter": "python",
   "pygments_lexer": "ipython3",
   "version": "3.6.4"
  }
 },
 "nbformat": 4,
 "nbformat_minor": 2
}
