{
 "cells": [
  {
   "cell_type": "code",
   "execution_count": null,
   "metadata": {},
   "outputs": [],
   "source": [
    "# TODO correlation between omikron_pg and omikron"
   ]
  },
  {
   "cell_type": "code",
   "execution_count": null,
   "metadata": {},
   "outputs": [],
   "source": [
    "import argparse\n",
    "import networkx as nx\n",
    "import numpy as np\n",
    "import scipy as sp\n",
    "import tensorflow as tf\n",
    "import tensorflow.contrib.eager as eager\n",
    "import my\n",
    "import objectives\n",
    "import gnn_lg"
   ]
  },
  {
   "cell_type": "code",
   "execution_count": null,
   "metadata": {},
   "outputs": [],
   "source": [
    "config = tf.ConfigProto()\n",
    "config.gpu_options.allow_growth=True\n",
    "tf.enable_eager_execution(config)"
   ]
  },
  {
   "cell_type": "code",
   "execution_count": null,
   "metadata": {},
   "outputs": [],
   "source": [
    "args = argparse.Namespace()\n",
    "args.activation = tf.keras.activations.relu\n",
    "args.depth = 10\n",
    "args.device = '/cpu:0'\n",
    "# args.device = '/device:GPU:0'\n",
    "# args.graph = 'soc-Epinions1'\n",
    "# args.graph = 'soc-Slashdot0811'\n",
    "# args.graph = 'soc-Slashdot0902'\n",
    "args.graph = 'barabasi-albert-100-3'\n",
    "args.lambda_node = 0.0\n",
    "args.lambda_edge = 0.0\n",
    "args.lambda_entropy = 0.0\n",
    "args.n_features = 16\n",
    "args.n_iterations = 500\n",
    "args.n_machines = 10\n",
    "args.n_samples = 5\n",
    "args.radius = 3\n",
    "\n",
    "# parser = argparse.ArgumentParser()\n",
    "# parser.add_argument('--depth', type=int, default=10)\n",
    "# parser.add_argument('--device', type=str, default='/cpu:0')\n",
    "# parser.add_argument('--graph', type=str, default='soc-Epinions1')\n",
    "# parser.add_argument('--lambda_node', type=float, default=1)\n",
    "# parser.add_argument('--lambda_edge', type=float, default=1)\n",
    "# parser.add_argument('--lambda_entropy', type=float, default=1)\n",
    "# parser.add_argument('--n-features', type=int, default=16)\n",
    "# parser.add_argument('--n-iterations', type=int, default=500)\n",
    "# parser.add_argument('--n-machines', type=int, default=10)\n",
    "# parser.add_argument('--radius', type=int, default=3)\n",
    "# args = parser.parse_args()\n",
    "\n",
    "keys = sorted(vars(args).keys())\n",
    "run_id = 'ipynb-' + '-'.join('%s-%s' % (key, str(getattr(args, key))) for key in keys if key != 'device')\n",
    "writer = tf.contrib.summary.create_file_writer('runs/' + run_id)\n",
    "writer.set_as_default()"
   ]
  },
  {
   "cell_type": "code",
   "execution_count": null,
   "metadata": {},
   "outputs": [],
   "source": [
    "if args.graph.startswith('barabasi-albert'):\n",
    "    n, m = tuple(map(int, args.graph.split('-')[-2:]))\n",
    "    g = nx.barabasi_albert_graph(n, m)\n",
    "else:\n",
    "    g = my.read_edgelist('data/' + args.graph, fill=True)"
   ]
  },
  {
   "cell_type": "code",
   "execution_count": null,
   "metadata": {},
   "outputs": [],
   "source": [
    "import imp\n",
    "gnn_lg = imp.reload(gnn_lg)\n",
    "objectives = imp.reload(objectives)"
   ]
  },
  {
   "cell_type": "code",
   "execution_count": null,
   "metadata": {},
   "outputs": [],
   "source": [
    "with tf.device(args.device):\n",
    "    objective = objectives.Objective(g, args.lambda_node, args.lambda_edge, args.lambda_entropy, args.n_machines, args.n_samples)\n",
    "    network = gnn_lg.GNN(g, (1,) + (args.n_features,) * args.depth, args.n_machines, args.radius, args.activation, args.device)\n",
    "    optimizer = tf.train.AdamOptimizer(learning_rate=1e-1)"
   ]
  },
  {
   "cell_type": "code",
   "execution_count": null,
   "metadata": {},
   "outputs": [],
   "source": [
    "global_step = tf.train.get_or_create_global_step()\n",
    "for i in range(args.n_iterations):\n",
    "    global_step.assign_add(1)\n",
    "    with tf.contrib.summary.record_summaries_every_n_global_steps(1):\n",
    "        with eager.GradientTape() as tape:\n",
    "            z = network(None, training=True)\n",
    "            omikron_pg = objective(z, training=True)\n",
    "        gradients = tape.gradient(omikron_pg, network.variables)\n",
    "        optimizer.apply_gradients(zip(gradients, network.variables), global_step=tf.train.get_or_create_global_step())\n",
    "\n",
    "        tf.contrib.summary.scalar('objective-pg', omikron)\n",
    "\n",
    "        omikron, r, b_node, b_edge, entropy = objective(z)\n",
    "        tf.contrib.summary.scalar('objective', omikron)\n",
    "        tf.contrib.summary.scalar('replication-factor', r)\n",
    "        tf.contrib.summary.scalar('node-balancedness', b_node)\n",
    "        tf.contrib.summary.scalar('edge-balancedness', b_edge)\n",
    "        tf.contrib.summary.scalar('entropy', entropy)\n",
    "\n",
    "        if (i + 1) % 10 == 0:\n",
    "            print('[iteration %d]omikron_pg %0.3f | omikron %0.3f | r %0.3f | b_node %0.3f | b_edge %0.3f | entropy %0.3f' %\n",
    "                  (i + 1, omikron_pg, omikron, r, b_node, b_edge, entropy))"
   ]
  },
  {
   "cell_type": "code",
   "execution_count": null,
   "metadata": {},
   "outputs": [],
   "source": [
    "# ckpt = eager.Checkpoint(model=network)\n",
    "# ckpt.save('./models/network')"
   ]
  }
 ],
 "metadata": {
  "kernelspec": {
   "display_name": "Python 3",
   "language": "python",
   "name": "python3"
  },
  "language_info": {
   "codemirror_mode": {
    "name": "ipython",
    "version": 3
   },
   "file_extension": ".py",
   "mimetype": "text/x-python",
   "name": "python",
   "nbconvert_exporter": "python",
   "pygments_lexer": "ipython3",
   "version": "3.6.4"
  }
 },
 "nbformat": 4,
 "nbformat_minor": 2
}
