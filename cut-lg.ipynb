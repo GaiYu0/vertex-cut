{
 "cells": [
  {
   "cell_type": "code",
   "execution_count": null,
   "metadata": {},
   "outputs": [],
   "source": [
    "import argparse\n",
    "import networkx as nx\n",
    "import numpy as np\n",
    "import scipy as sp\n",
    "import tensorflow as tf\n",
    "import tensorflow.contrib.eager as eager\n",
    "import my\n",
    "import gnn_lg\n",
    "import objectives\n",
    "import partition"
   ]
  },
  {
   "cell_type": "code",
   "execution_count": null,
   "metadata": {},
   "outputs": [],
   "source": [
    "config = tf.ConfigProto()\n",
    "config.gpu_options.allow_growth=True\n",
    "tf.enable_eager_execution(config)"
   ]
  },
  {
   "cell_type": "code",
   "execution_count": null,
   "metadata": {},
   "outputs": [],
   "source": [
    "args = argparse.Namespace()\n",
    "args.activation = 'relu'\n",
    "args.depth = 10\n",
    "args.device = '/cpu:0'\n",
    "# args.device = '/device:GPU:0'\n",
    "# args.graph = 'soc-Epinions1'\n",
    "# args.graph = 'soc-Slashdot0811'\n",
    "# args.graph = 'soc-Slashdot0902'\n",
    "args.graph = 'barabasi-albert-100-3'\n",
    "args.lambda_node = 0.0\n",
    "args.lambda_edge = 0.0\n",
    "args.lambda_entropy = 0.0\n",
    "args.n_features = 16\n",
    "args.n_iterations = 50\n",
    "args.n_machines = 10\n",
    "args.n_samples = 5\n",
    "# args.objective = 'CrossEntropy'\n",
    "args.objective = 'OraclePolicyGradient'\n",
    "# args.objective = 'PolicyGradient'\n",
    "# args.partitioner = ''\n",
    "args.partitioner = 'GreedyVertexCut'\n",
    "# args.partitioner = 'RandomVertexCut'\n",
    "args.radius = 3\n",
    "\n",
    "keys = sorted(vars(args).keys())\n",
    "run_id = 'ipynb-' + '-'.join('%s-%s' % (key, str(getattr(args, key))) for key in keys if key != 'device')\n",
    "writer = tf.contrib.summary.create_file_writer('runs/' + run_id)\n",
    "writer.set_as_default()"
   ]
  },
  {
   "cell_type": "code",
   "execution_count": null,
   "metadata": {},
   "outputs": [],
   "source": [
    "if args.graph.startswith('barabasi-albert'):\n",
    "    n, m = tuple(map(int, args.graph.split('-')[-2:]))\n",
    "    g = nx.barabasi_albert_graph(n, m)\n",
    "else:\n",
    "    g = my.read_edgelist('data/' + args.graph, fill=True)"
   ]
  },
  {
   "cell_type": "code",
   "execution_count": null,
   "metadata": {},
   "outputs": [],
   "source": [
    "import imp\n",
    "gnn_lg = imp.reload(gnn_lg)\n",
    "objectives = imp.reload(objectives)"
   ]
  },
  {
   "cell_type": "code",
   "execution_count": null,
   "metadata": {},
   "outputs": [],
   "source": [
    "with tf.device(args.device):\n",
    "    lambda_tuple = (args.lambda_node, args.lambda_edge, args.lambda_entropy)\n",
    "    if args.partitioner:\n",
    "        partitioner = getattr(partition, args.partitioner)\n",
    "        if args.objective == 'CrossEntropy':\n",
    "            objective = objectives.CrossEntropy(g, partitioner, args.n_machines, *lambda_tuple)\n",
    "        elif args.objective == 'OraclePolicyGradient':\n",
    "            kwargs = {'node' : True}\n",
    "            objective = objectives.OraclePolicyGradient(g, partitioner, args.n_machines, *lambda_tuple, **kwargs)\n",
    "    else:\n",
    "        objective = getattr(objectives, args.objective)(g, args.n_machines, *lambda_tuple)\n",
    "            \n",
    "    features = (1,) + (args.n_features,) * args.depth\n",
    "    activation = getattr(tf.keras.activations, args.activation)\n",
    "    network = gnn_lg.GNN(g, features, args.n_machines, args.radius, activation, args.device)\n",
    "    optimizer = tf.train.AdamOptimizer(learning_rate=1e1)"
   ]
  },
  {
   "cell_type": "code",
   "execution_count": null,
   "metadata": {},
   "outputs": [],
   "source": [
    "global_step = tf.train.get_or_create_global_step()\n",
    "for i in range(args.n_iterations):\n",
    "    global_step.assign_add(1)\n",
    "    with tf.contrib.summary.record_summaries_every_n_global_steps(1):\n",
    "        with eager.GradientTape() as tape:\n",
    "            z = network(None, training=True)\n",
    "            objective_train = objective(z, args.n_samples, training=True)\n",
    "        gradients = tape.gradient(objective_train, network.variables)\n",
    "        optimizer.apply_gradients(zip(gradients, network.variables), global_step=tf.train.get_or_create_global_step())\n",
    "\n",
    "        tf.contrib.summary.scalar('objective-train', objective_train)\n",
    "\n",
    "        objective_test, r, b_node, b_edge, entropy = objective(z, args.n_samples)\n",
    "        tf.contrib.summary.scalar('objective', objective_test)\n",
    "        tf.contrib.summary.scalar('replication-factor', r)\n",
    "        tf.contrib.summary.scalar('node-balancedness', b_node)\n",
    "        tf.contrib.summary.scalar('edge-balancedness', b_edge)\n",
    "        tf.contrib.summary.scalar('entropy', entropy)\n",
    "\n",
    "    if (i + 1) % 1 == 0:\n",
    "        prefix = '0' * (len(str(args.n_iterations)) - len(str(i + 1)))\n",
    "        print('[iteration %s%d]objective_train %0.3f | objective_test %0.3f | r %0.3f | b_node %0.3f | b_edge %0.3f | entropy %0.3f' %\n",
    "              (prefix, i + 1, objective_train, objective_test, r, b_node, b_edge, entropy))"
   ]
  },
  {
   "cell_type": "code",
   "execution_count": null,
   "metadata": {},
   "outputs": [],
   "source": [
    "# ckpt = eager.Checkpoint(model=network)\n",
    "# ckpt.save('./models/network')"
   ]
  }
 ],
 "metadata": {
  "kernelspec": {
   "display_name": "Python 3",
   "language": "python",
   "name": "python3"
  },
  "language_info": {
   "codemirror_mode": {
    "name": "ipython",
    "version": 3
   },
   "file_extension": ".py",
   "mimetype": "text/x-python",
   "name": "python",
   "nbconvert_exporter": "python",
   "pygments_lexer": "ipython3",
   "version": "3.6.4"
  }
 },
 "nbformat": 4,
 "nbformat_minor": 2
}
