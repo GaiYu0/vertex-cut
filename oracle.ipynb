{
 "cells": [
  {
   "cell_type": "code",
   "execution_count": 1,
   "metadata": {},
   "outputs": [
    {
     "name": "stderr",
     "output_type": "stream",
     "text": [
      "/home/alex/anaconda3/lib/python3.6/site-packages/h5py/__init__.py:34: FutureWarning: Conversion of the second argument of issubdtype from `float` to `np.floating` is deprecated. In future, it will be treated as `np.float64 == np.dtype(float).type`.\n",
      "  from ._conv import register_converters as _register_converters\n"
     ]
    }
   ],
   "source": [
    "import argparse\n",
    "import networkx as nx\n",
    "import numpy as np\n",
    "import scipy as sp\n",
    "import tensorflow as tf\n",
    "import my\n",
    "import objectives\n",
    "import partition as pttn"
   ]
  },
  {
   "cell_type": "code",
   "execution_count": 2,
   "metadata": {
    "collapsed": true
   },
   "outputs": [],
   "source": [
    "config = tf.ConfigProto()\n",
    "config.gpu_options.allow_growth=True\n",
    "tf.enable_eager_execution(config)"
   ]
  },
  {
   "cell_type": "code",
   "execution_count": 3,
   "metadata": {
    "collapsed": true
   },
   "outputs": [],
   "source": [
    "args = argparse.Namespace()\n",
    "args.device = '/cpu:0'\n",
    "args.graph = 'soc-Epinions1'\n",
    "args.lambda_node = 1.0\n",
    "args.lambda_edge = 1.0\n",
    "args.lambda_entropy = 1.0\n",
    "args.n_iterations = 500\n",
    "args.partitioner = 'greedy'\n",
    "# args.partitioner = 'random'\n",
    "args.n_machines = 10\n",
    "\n",
    "keys = sorted(vars(args).keys())\n",
    "run_id = 'oracle-' + '-'.join('%s-%s' % (key, str(getattr(args, key))) for key in keys if key != 'device')\n",
    "writer = tf.contrib.summary.create_file_writer('runs/' + run_id)\n",
    "writer.set_as_default()"
   ]
  },
  {
   "cell_type": "code",
   "execution_count": 4,
   "metadata": {
    "collapsed": true
   },
   "outputs": [],
   "source": [
    "g = my.read_edgelist('data/' + args.graph, fill=True)\n",
    "adj = nx.adj_matrix(g)\n",
    "adj = sp.sparse.triu(adj)"
   ]
  },
  {
   "cell_type": "code",
   "execution_count": 5,
   "metadata": {
    "collapsed": true
   },
   "outputs": [],
   "source": [
    "rng = np.random.RandomState(42)\n",
    "partitioner = {\n",
    "    'greedy' : pttn.GreedyVertexCut,\n",
    "    'random' : pttn.RandomVertexCut,\n",
    "}[args.partitioner](adj, args.n_machines, rng)"
   ]
  },
  {
   "cell_type": "code",
   "execution_count": 6,
   "metadata": {
    "collapsed": true
   },
   "outputs": [],
   "source": [
    "partitioner.partition()\n",
    "z = tf.one_hot(tf.constant(partitioner.eassign), args.n_machines)"
   ]
  },
  {
   "cell_type": "code",
   "execution_count": 7,
   "metadata": {
    "collapsed": true
   },
   "outputs": [],
   "source": [
    "with tf.device(args.device):\n",
    "    objective = objectives.Objective(adj, args.n_machines, args.lambda_node, args.lambda_edge, args.lambda_entropy)"
   ]
  },
  {
   "cell_type": "code",
   "execution_count": 8,
   "metadata": {},
   "outputs": [
    {
     "name": "stdout",
     "output_type": "stream",
     "text": [
      "1.854667 -2.295276 -2.309941 -0.000000\n"
     ]
    }
   ],
   "source": [
    "with tf.device(args.device):\n",
    "    r, b_node, b_edge, entropy = objective(z, probability=True)\n",
    "    rslt = r + args.lambda_node * b_node + args.lambda_edge * b_edge + args.lambda_entropy * entropy\n",
    "    print('%f %f %f %f' % (r, b_node, b_edge, entropy))"
   ]
  },
  {
   "cell_type": "code",
   "execution_count": 9,
   "metadata": {},
   "outputs": [],
   "source": [
    "global_step = tf.train.get_or_create_global_step()\n",
    "for i in range(args.n_iterations):\n",
    "    global_step.assign_add(1)\n",
    "    with tf.contrib.summary.record_summaries_every_n_global_steps(1):\n",
    "        tf.contrib.summary.scalar('objective', rslt)\n",
    "        tf.contrib.summary.scalar('replication-factor', r)\n",
    "        tf.contrib.summary.scalar('node-balancedness', b_node)\n",
    "        tf.contrib.summary.scalar('edge-balancedness', b_edge)\n",
    "        tf.contrib.summary.scalar('entropy', entropy)"
   ]
  }
 ],
 "metadata": {
  "kernelspec": {
   "display_name": "Python 3",
   "language": "python",
   "name": "python3"
  },
  "language_info": {
   "codemirror_mode": {
    "name": "ipython",
    "version": 3
   },
   "file_extension": ".py",
   "mimetype": "text/x-python",
   "name": "python",
   "nbconvert_exporter": "python",
   "pygments_lexer": "ipython3",
   "version": "3.6.3"
  }
 },
 "nbformat": 4,
 "nbformat_minor": 2
}
