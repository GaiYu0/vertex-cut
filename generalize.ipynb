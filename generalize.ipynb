{
 "cells": [
  {
   "cell_type": "code",
   "execution_count": 1,
   "metadata": {},
   "outputs": [
    {
     "name": "stderr",
     "output_type": "stream",
     "text": [
      "/home/gaiyu/anaconda3/lib/python3.6/site-packages/h5py/__init__.py:36: FutureWarning: Conversion of the second argument of issubdtype from `float` to `np.floating` is deprecated. In future, it will be treated as `np.float64 == np.dtype(float).type`.\n",
      "  from ._conv import register_converters as _register_converters\n"
     ]
    }
   ],
   "source": [
    "import argparse\n",
    "import collections\n",
    "import networkx as nx\n",
    "import tensorflow as tf\n",
    "import tensorflow.contrib.eager as eager\n",
    "import my\n",
    "import objectives\n",
    "import tf_gnn"
   ]
  },
  {
   "cell_type": "code",
   "execution_count": 2,
   "metadata": {},
   "outputs": [],
   "source": [
    "config = tf.ConfigProto()\n",
    "config.gpu_options.allow_growth=True\n",
    "tf.enable_eager_execution(config)"
   ]
  },
  {
   "cell_type": "code",
   "execution_count": 3,
   "metadata": {},
   "outputs": [],
   "source": [
    "args = argparse.Namespace()\n",
    "args.depth = 10\n",
    "args.device = '/cpu:0'\n",
    "args.graph_tuple = ('soc-Epinions1', 'soc-Slashdot0811', 'soc-Slashdot0902', 'random-50000')\n",
    "args.lambda_node = 1\n",
    "args.lambda_edge = 1\n",
    "args.lambda_entropy = 1\n",
    "args.n_features = 16\n",
    "args.n_machines = 10\n",
    "args.radius = 3"
   ]
  },
  {
   "cell_type": "code",
   "execution_count": 4,
   "metadata": {},
   "outputs": [],
   "source": [
    "adj_dict = collections.OrderedDict()\n",
    "for key in args.graph_tuple:\n",
    "    if key.startswith('random'):\n",
    "        n = int(key.split('-')[1])\n",
    "    else:\n",
    "        g = my.read_edgelist('data/' + key, fill=True)\n",
    "        adj_dict[key] = nx.adj_matrix(g)"
   ]
  },
  {
   "cell_type": "code",
   "execution_count": 5,
   "metadata": {},
   "outputs": [
    {
     "name": "stdout",
     "output_type": "stream",
     "text": [
      "[soc-Epinions1]2.686759 -2.242767 -1.802942 0.797796\n",
      "[soc-Slashdot0811]4.848514 -2.284688 -2.097455 1.086525\n",
      "[soc-Slashdot0902]4.846651 -2.286368 -2.108891 1.096381\n"
     ]
    }
   ],
   "source": [
    "with tf.device(args.device):\n",
    "    for key, adj in adj_dict.items():\n",
    "        objective = objectives.Objective(adj, args.n_machines, args.lambda_node, args.lambda_edge, args.lambda_entropy)\n",
    "        gnn = tf_gnn.GNN((1,) + (args.n_features,) * args.depth, args.n_machines, adj, args.radius)\n",
    "        \n",
    "        ckpt = eager.Checkpoint(model=gnn)\n",
    "        ckpt.restore('./models/gnn-1')\n",
    "        \n",
    "        x = tf.constant(adj.sum(1), dtype=tf.float32)\n",
    "        x -= tf.reduce_mean(x)\n",
    "        x /= tf.sqrt(tf.reduce_mean(tf.square(x)))\n",
    "        \n",
    "        z = gnn(x, training=True)\n",
    "        r, b_node, b_edge, entropy = objective(z)\n",
    "        \n",
    "        print('[%s]%f %f %f %f' % (key, r, b_node, b_edge, entropy))"
   ]
  }
 ],
 "metadata": {
  "kernelspec": {
   "display_name": "Python 3",
   "language": "python",
   "name": "python3"
  },
  "language_info": {
   "codemirror_mode": {
    "name": "ipython",
    "version": 3
   },
   "file_extension": ".py",
   "mimetype": "text/x-python",
   "name": "python",
   "nbconvert_exporter": "python",
   "pygments_lexer": "ipython3",
   "version": "3.6.4"
  }
 },
 "nbformat": 4,
 "nbformat_minor": 2
}
